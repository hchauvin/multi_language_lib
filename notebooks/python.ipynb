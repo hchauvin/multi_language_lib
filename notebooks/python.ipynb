{
 "cells": [
  {
   "cell_type": "code",
   "execution_count": 1,
   "metadata": {},
   "outputs": [
    {
     "name": "stdout",
     "output_type": "stream",
     "text": [
      "running develop\n",
      "running egg_info\n",
      "writing src/example.egg-info/PKG-INFO\n",
      "writing dependency_links to src/example.egg-info/dependency_links.txt\n",
      "writing requirements to src/example.egg-info/requires.txt\n",
      "writing top-level names to src/example.egg-info/top_level.txt\n",
      "reading manifest file 'src/example.egg-info/SOURCES.txt'\n",
      "writing manifest file 'src/example.egg-info/SOURCES.txt'\n",
      "running build_ext\n",
      "\u001b[1m\u001b[36mConfiguration:\u001b[0m\n",
      "[settings]\n",
      "arch=x86_64\n",
      "arch_build=x86_64\n",
      "build_type=Release\n",
      "compiler=apple-clang\n",
      "compiler.libcxx=libc++\n",
      "compiler.version=10.0\n",
      "os=Macos\n",
      "os_build=Macos\n",
      "[options]\n",
      "[build_requires]\n",
      "[env]\n",
      "\n",
      "\u001b[1m\u001b[36mbzip2/1.0.6@conan/stable: \u001b[0m\u001b[1m\u001b[37mPackage is up to date\u001b[0m\n",
      "\u001b[1m\u001b[36mcatch2/2.4.2@bincrafters/stable: \u001b[0m\u001b[1m\u001b[37mPackage is up to date\u001b[0m\n",
      "\u001b[1m\u001b[36mpybind11/2.3.0@conan/stable: \u001b[0m\u001b[1m\u001b[37mPackage is up to date\u001b[0m\n",
      "\u001b[1m\u001b[36mvscodepropertiesgen/0.1@mkovalchik/stable: \u001b[0m\u001b[1m\u001b[37mPackage is up to date\u001b[0m\n",
      "\u001b[1m\u001b[36mzlib/1.2.11@conan/stable: \u001b[0m\u001b[1m\u001b[37mPackage is up to date\u001b[0m\n",
      "\u001b[1m\u001b[36mboost/1.67.0@conan/stable: \u001b[0m\u001b[1m\u001b[37mPackage is up to date\u001b[0m\n",
      "\u001b[1m\u001b[35mconanfile.txt: \u001b[0m\u001b[1m\u001b[37mInstalling package\u001b[0m\n",
      "\u001b[1m\u001b[33mRequirements\u001b[0m\n",
      "\u001b[1m\u001b[36m    boost/1.67.0@conan/stable from 'conan-center' - Cache\u001b[0m\n",
      "\u001b[1m\u001b[36m    bzip2/1.0.6@conan/stable from 'conan-center' - Cache\u001b[0m\n",
      "\u001b[1m\u001b[36m    catch2/2.4.2@bincrafters/stable from 'conan-center' - Cache\u001b[0m\n",
      "\u001b[1m\u001b[36m    pybind11/2.3.0@conan/stable from 'conan-center' - Cache\u001b[0m\n",
      "\u001b[1m\u001b[36m    vscodepropertiesgen/0.1@mkovalchik/stable from local cache - Cache\u001b[0m\n",
      "\u001b[1m\u001b[36m    zlib/1.2.11@conan/stable from 'conan-center' - Cache\u001b[0m\n",
      "\u001b[1m\u001b[33mPackages\u001b[0m\n",
      "\u001b[1m\u001b[36m    boost/1.67.0@conan/stable:411d816e9b8d6cb0bb1ef6e5be8b2a94b8b17c04 - Cache\u001b[0m\n",
      "\u001b[1m\u001b[36m    bzip2/1.0.6@conan/stable:534dcc368c999e07e81f146b3466b8f656ef1f55 - Cache\u001b[0m\n",
      "\u001b[1m\u001b[36m    catch2/2.4.2@bincrafters/stable:5ab84d6acfe1f23c4fae0ab88f26e3a396351ac9 - Cache\u001b[0m\n",
      "\u001b[1m\u001b[36m    pybind11/2.3.0@conan/stable:5ab84d6acfe1f23c4fae0ab88f26e3a396351ac9 - Cache\u001b[0m\n",
      "\u001b[1m\u001b[36m    vscodepropertiesgen/0.1@mkovalchik/stable:5ab84d6acfe1f23c4fae0ab88f26e3a396351ac9 - Cache\u001b[0m\n",
      "\u001b[1m\u001b[36m    zlib/1.2.11@conan/stable:534dcc368c999e07e81f146b3466b8f656ef1f55 - Cache\u001b[0m\n",
      "\n",
      "\u001b[1m\u001b[32mbzip2/1.0.6@conan/stable: \u001b[0m\u001b[1m\u001b[37mAlready installed!\u001b[0m\n",
      "\u001b[1m\u001b[32mcatch2/2.4.2@bincrafters/stable: \u001b[0m\u001b[1m\u001b[37mAlready installed!\u001b[0m\n",
      "\u001b[1m\u001b[32mpybind11/2.3.0@conan/stable: \u001b[0m\u001b[1m\u001b[37mAlready installed!\u001b[0m\n",
      "\u001b[1m\u001b[32mvscodepropertiesgen/0.1@mkovalchik/stable: \u001b[0m\u001b[1m\u001b[37mAlready installed!\u001b[0m\n",
      "\u001b[1m\u001b[32mzlib/1.2.11@conan/stable: \u001b[0m\u001b[1m\u001b[37mAlready installed!\u001b[0m\n",
      "\u001b[1m\u001b[32mboost/1.67.0@conan/stable: \u001b[0m\u001b[1m\u001b[37mAlready installed!\u001b[0m\n",
      "\u001b[1m\u001b[36mboost/1.67.0@conan/stable: \u001b[0m\u001b[1m\u001b[37mLIBRARIES: ['boost_wave', 'boost_container', 'boost_contract', 'boost_exception', 'boost_graph', 'boost_iostreams', 'boost_locale', 'boost_log', 'boost_program_options', 'boost_random', 'boost_regex', 'boost_serialization', 'boost_wserialization', 'boost_signals', 'boost_coroutine', 'boost_fiber', 'boost_context', 'boost_timer', 'boost_thread', 'boost_chrono', 'boost_date_time', 'boost_atomic', 'boost_filesystem', 'boost_system', 'boost_type_erasure', 'boost_log_setup', 'boost_math_c99', 'boost_math_c99f', 'boost_math_c99l', 'boost_math_tr1', 'boost_math_tr1f', 'boost_math_tr1l', 'boost_stacktrace_addr2line', 'boost_stacktrace_basic', 'boost_stacktrace_noop', 'boost_unit_test_framework']\u001b[0m\n",
      "\u001b[1m\u001b[36mboost/1.67.0@conan/stable: \u001b[0m\u001b[1m\u001b[37mPackage folder: /Users/hadrienchauvin/.conan/data/boost/1.67.0/conan/stable/package/411d816e9b8d6cb0bb1ef6e5be8b2a94b8b17c04\u001b[0m\n",
      "\u001b[1m\u001b[36mconanfile.txt: \u001b[0m\u001b[1m\u001b[37mGenerator cmake created conanbuildinfo.cmake\u001b[0m\n",
      "\u001b[1m\u001b[36mconanfile.txt: \u001b[0m\u001b[1m\u001b[37mGenerator VSCodeProperties created .vscode/c_cpp_properties.json\u001b[0m\n",
      "\u001b[1m\u001b[36mconanfile.txt: \u001b[0m\u001b[1m\u001b[37mGenerator txt created conanbuildinfo.txt\u001b[0m\n",
      "\u001b[1m\u001b[36mconanfile.txt: \u001b[0m\u001b[1m\u001b[37mGenerated conaninfo.txt\u001b[0m\n",
      "\u001b[1m\u001b[36mconanfile.txt: \u001b[0m\u001b[1m\u001b[37mGenerated graphinfo\u001b[0m\n",
      "\u001b[0m-- Conan: Adjusting output directories\n",
      "-- Conan: Using cmake global configuration\n",
      "-- Conan: Adjusting default RPATHs Conan policies\n",
      "-- Conan: Adjusting language standard\n",
      "-- Current conanbuildinfo.cmake directory: /Users/hadrienchauvin/code/multi_language_lib/python/build/temp.macosx-10.7-x86_64-3.7\n",
      "-- Configuring done\n",
      "-- Generating done\n",
      "-- Build files have been written to: /Users/hadrienchauvin/code/multi_language_lib/python/build/temp.macosx-10.7-x86_64-3.7\n",
      "[100%] Built target example\n",
      "\n",
      "Creating /Users/hadrienchauvin/anaconda3/lib/python3.7/site-packages/example.egg-link (link to src)\n",
      "example 0.1.0 is already the active version in easy-install.pth\n",
      "\n",
      "Installed /Users/hadrienchauvin/code/multi_language_lib/python/src\n",
      "Processing dependencies for example==0.1.0\n",
      "Searching for pybind11==2.3.0\n",
      "Best match: pybind11 2.3.0\n",
      "Processing pybind11-2.3.0-py3.7.egg\n",
      "pybind11 2.3.0 is already the active version in easy-install.pth\n",
      "\n",
      "Using /Users/hadrienchauvin/anaconda3/lib/python3.7/site-packages/pybind11-2.3.0-py3.7.egg\n",
      "Finished processing dependencies for example==0.1.0\n"
     ]
    }
   ],
   "source": [
    "# Note that in Python it is not straightforward to change native code and see changes without having\n",
    "# to reload the whole kernel.\n",
    "#\n",
    "# importlib.reload can be used to reload a module, but it does not reload the shared library\n",
    "# containing the native code.  One can use https://gist.github.com/TheWaWaR/d3c630f72dd631a0f336\n",
    "# to deal with that, but this code is not cross-platform.  To be continued.\n",
    "\n",
    "!(cd ../python && ./setup.py develop)"
   ]
  },
  {
   "cell_type": "code",
   "execution_count": 2,
   "metadata": {},
   "outputs": [
    {
     "data": {
      "text/plain": [
       "['Hello', 'world']"
      ]
     },
     "execution_count": 2,
     "metadata": {},
     "output_type": "execute_result"
    }
   ],
   "source": [
    "import example\n",
    "example.split(\"Hello world\")"
   ]
  },
  {
   "cell_type": "code",
   "execution_count": null,
   "metadata": {},
   "outputs": [],
   "source": []
  }
 ],
 "metadata": {
  "kernelspec": {
   "display_name": "Python 3",
   "language": "python",
   "name": "python3"
  },
  "language_info": {
   "codemirror_mode": {
    "name": "ipython",
    "version": 3
   },
   "file_extension": ".py",
   "mimetype": "text/x-python",
   "name": "python",
   "nbconvert_exporter": "python",
   "pygments_lexer": "ipython3",
   "version": "3.7.3"
  }
 },
 "nbformat": 4,
 "nbformat_minor": 2
}
